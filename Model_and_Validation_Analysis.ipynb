{
 "cells": [
  {
   "cell_type": "markdown",
   "metadata": {},
   "source": [
    "<h1>Various Analyses</h1>\n",
    "\n",
    "Trying different analyses on Decision Trees, Random Forests, and K-Fold Cross Validation through changing of parameters"
   ]
  },
  {
   "cell_type": "code",
   "execution_count": 77,
   "metadata": {},
   "outputs": [],
   "source": [
    "from sklearn.datasets import load_iris # Iris dataset\n",
    "from sklearn.model_selection import KFold # K-fold Cross Validation\n",
    "from sklearn import tree # Decision Tree\n",
    "from sklearn import ensemble # Random forest\n",
    "from sklearn import metrics # Accuracy scores\n",
    "\n",
    "import numpy as np\n",
    "import pandas as pd\n",
    "import matplotlib\n",
    "import matplotlib.pyplot as plt\n",
    "import time"
   ]
  },
  {
   "cell_type": "markdown",
   "metadata": {},
   "source": [
    "<h2>Helper Functions</h2>\n",
    "\n",
    "Function for obtaining data splits over k-folds"
   ]
  },
  {
   "cell_type": "code",
   "execution_count": 78,
   "metadata": {},
   "outputs": [],
   "source": [
    "def getSets(k, data, targets):\n",
    "    kFold = KFold(k, True, 1)\n",
    "\n",
    "    # Data sets\n",
    "    trainSets = []\n",
    "    testSets = []\n",
    "    # Target sets\n",
    "    trainTargs = []\n",
    "    testTargs = []\n",
    "    \n",
    "    for train, test in kFold.split(data):\n",
    "        # Training values\n",
    "        trainSets.append( [data[i] for i in train] )\n",
    "        trainTargs.append( [targets[i] for i in train] )\n",
    "\n",
    "        # Testing values\n",
    "        testSets.append( [data[i] for i in test] )\n",
    "        testTargs.append( [targets[i] for i in test] )\n",
    "        \n",
    "    return trainSets, testSets, trainTargs, testTargs"
   ]
  },
  {
   "cell_type": "markdown",
   "metadata": {},
   "source": [
    "Function for printing out accuracy results"
   ]
  },
  {
   "cell_type": "code",
   "execution_count": 79,
   "metadata": {},
   "outputs": [],
   "source": [
    "def printScores(scores):\n",
    "    # Results\n",
    "    for score in scores:\n",
    "        print(\"Accuracy: {0:0.4f}\".format(score))        "
   ]
  },
  {
   "cell_type": "markdown",
   "metadata": {},
   "source": [
    "Function for plotting results / scores"
   ]
  },
  {
   "cell_type": "code",
   "execution_count": 80,
   "metadata": {},
   "outputs": [],
   "source": [
    "def plotSingleScore(scores, xL, yL, t):\n",
    "    n = len(scores)\n",
    "    x = np.linspace(0, n, num = n)\n",
    "    \n",
    "    fig = plt.figure()\n",
    "    p1 = fig.add_subplot()\n",
    "    # It's the holidays\n",
    "    p1.plot(x, scores,\n",
    "             color = \"forestgreen\",\n",
    "             marker = \"*\",\n",
    "             markersize = \"10\",\n",
    "             markeredgecolor = \"indianred\",\n",
    "             markerfacecolor = \"indianred\",)\n",
    "    \n",
    "    p1.set_xlabel(xL)\n",
    "    p1.set_ylabel(yL)\n",
    "    p1.set_title(t)\n",
    "    plt.show()"
   ]
  },
  {
   "cell_type": "code",
   "execution_count": 81,
   "metadata": {},
   "outputs": [],
   "source": [
    "def plotModelPerformance(df, xA, xL):    \n",
    "    fig, p = plt.subplots(2, 2, figsize=(12, 10))\n",
    "    plots = {\n",
    "        \"accuracy\": {\n",
    "            \"index\": [0, 0],\n",
    "            \"yLabel\": \"Mean Accuracy\",\n",
    "            \"color\": \"tomato\"\n",
    "        },\n",
    "        \"bias\": {\n",
    "            \"index\": [0, 1],\n",
    "            \"yLabel\": \"Mean Bias\",\n",
    "            \"color\": \"orange\"\n",
    "        },\n",
    "        \"variance\": {\n",
    "            \"index\": [1, 0],\n",
    "            \"yLabel\": \"Mean Varianve\",\n",
    "            \"color\": \"limegreen\"\n",
    "        },\n",
    "        \"mse\": {\n",
    "            \"index\": [1, 1],\n",
    "            \"yLabel\": \"Mean Square Errror\",\n",
    "            \"color\": \"cornflowerblue\"\n",
    "        },\n",
    "    }\n",
    "    for column in df:\n",
    "        currData = plots[column]\n",
    "        index = currData[\"index\"]\n",
    "        p[index[0], index[1]].scatter(xA, column, data=df,\n",
    "               color = currData[\"color\"])\n",
    "        p[index[0], index[1]].set_xlabel(xL)\n",
    "        p[index[0], index[1]].set_ylabel(currData[\"yLabel\"])\n",
    "    \n",
    "    print()\n",
    "    plt.show()"
   ]
  },
  {
   "cell_type": "markdown",
   "metadata": {},
   "source": [
    "Function for finding Variance"
   ]
  },
  {
   "cell_type": "code",
   "execution_count": 82,
   "metadata": {},
   "outputs": [],
   "source": [
    "def getVariance(predictions):\n",
    "    return np.mean((predictions - np.mean(predictions))**2)"
   ]
  },
  {
   "cell_type": "markdown",
   "metadata": {},
   "source": [
    "Function for finding Bias"
   ]
  },
  {
   "cell_type": "code",
   "execution_count": 83,
   "metadata": {},
   "outputs": [],
   "source": [
    "def getBias(predictions, target):\n",
    "    truth = np.mean(target)\n",
    "    return np.mean(predictions) - truth"
   ]
  },
  {
   "cell_type": "markdown",
   "metadata": {},
   "source": [
    "Function for finding Mean Square Error"
   ]
  },
  {
   "cell_type": "code",
   "execution_count": 84,
   "metadata": {},
   "outputs": [],
   "source": [
    "def getMSE(predictions, target):\n",
    "    truth = np.mean(target)\n",
    "    return np.mean((predictions-truth)**2)"
   ]
  },
  {
   "cell_type": "markdown",
   "metadata": {},
   "source": [
    "Loading Data sets"
   ]
  },
  {
   "cell_type": "code",
   "execution_count": 85,
   "metadata": {},
   "outputs": [],
   "source": [
    "# Iris Dataset\n",
    "iris = load_iris()"
   ]
  },
  {
   "cell_type": "code",
   "execution_count": 86,
   "metadata": {},
   "outputs": [],
   "source": [
    "# Wine Quality Dataset\n",
    "df = pd.read_csv('WineQuality/winequality-white.csv', delimiter=';')\n",
    "\n",
    "wines = df.drop(columns='quality')\n",
    "wines = wines.to_numpy()\n",
    "\n",
    "targets = df['quality']\n",
    "targets = targets.to_numpy()"
   ]
  },
  {
   "cell_type": "markdown",
   "metadata": {},
   "source": [
    "<h1>Decision Trees</h1>\n",
    "\n",
    "Analysis on how the maximum depth (`max_depth`) of a tree affects model accuracy and execution time"
   ]
  },
  {
   "cell_type": "markdown",
   "metadata": {},
   "source": [
    "Function to run a Decision Tree with max_depth n over k-folds"
   ]
  },
  {
   "cell_type": "code",
   "execution_count": 87,
   "metadata": {},
   "outputs": [],
   "source": [
    "def runDecisionTree(k, data, targets, n):\n",
    "    accuracy = []\n",
    "    squareErrors = []\n",
    "    variances = []\n",
    "    biases= []\n",
    "    trainS, testS, trainT, testT = getSets(k, data, targets)\n",
    "    \n",
    "    for i in range(0, k):\n",
    "        classTree = tree.DecisionTreeClassifier(max_depth = n)\n",
    "        # Training\n",
    "        classTree = classTree.fit(trainS[i], trainT[i])\n",
    "        # Testing\n",
    "        test = classTree.predict(testS[i])\n",
    "        \n",
    "        # Accuracy\n",
    "        accuracy.append(metrics.accuracy_score(testT[i], test))\n",
    "        # Variances\n",
    "        variances.append(getVariance(test))\n",
    "        # Biases\n",
    "        biases.append(getBias(test, testT[i]))\n",
    "        # Mean Square Error\n",
    "        squareErrors.append(getMSE(test, testT[i]))\n",
    "        \n",
    "    # Mean results\n",
    "    data = {\n",
    "        \"accuracy\": np.mean(accuracy),\n",
    "        \"bias\": np.mean(biases),\n",
    "        \"variance\": np.mean(variances),\n",
    "        \"mse\": np.mean(squareErrors)\n",
    "    }\n",
    "    return data"
   ]
  },
  {
   "cell_type": "markdown",
   "metadata": {},
   "source": [
    "Function to run decision trees with max_depths within the range (start, end), over k-folds"
   ]
  },
  {
   "cell_type": "code",
   "execution_count": 88,
   "metadata": {},
   "outputs": [],
   "source": [
    "def runTreeDepths(k, start, end, data, targets):\n",
    "    allData = []\n",
    "    allTimes = []\n",
    "    for i in range(start, end):\n",
    "        startTime = time.time()\n",
    "        allData.append(runDecisionTree(k, data, targets, i))\n",
    "        allTimes.append(time.time() - startTime)\n",
    "    \n",
    "    return pd.DataFrame(allData), allTimes "
   ]
  },
  {
   "cell_type": "markdown",
   "metadata": {},
   "source": [
    "<h3>Iris Flowers</h3>"
   ]
  },
  {
   "cell_type": "code",
   "execution_count": 89,
   "metadata": {
    "scrolled": true
   },
   "outputs": [
    {
     "name": "stdout",
     "output_type": "stream",
     "text": [
      "\n"
     ]
    },
    {
     "data": {
      "image/png": "[encoded data removed]",
      "text/plain": [
       "<Figure size 864x720 with 4 Axes>"
      ]
     },
     "metadata": {
      "needs_background": "light"
     },
     "output_type": "display_data"
    }
   ],
   "source": [
    "# Decision Trees with max depths 1-10 at 5-folds\n",
    "result, xAxis = runTreeDepths(5, 1, 10, iris.data, iris.target)\n",
    "\n",
    "# Plot labels\n",
    "xLabel = \"Execution Time\"\n",
    "plotModelPerformance(result, xAxis, xLabel)"
   ]
  },
  {
   "cell_type": "markdown",
   "metadata": {},
   "source": [
    "<h3>Wine Quality</h3>"
   ]
  },
  {
   "cell_type": "code",
   "execution_count": 90,
   "metadata": {},
   "outputs": [
    {
     "name": "stdout",
     "output_type": "stream",
     "text": [
      "\n"
     ]
    },
    {
     "data": {
      "image/png": "[encoded data removed]",
      "text/plain": [
       "<Figure size 864x720 with 4 Axes>"
      ]
     },
     "metadata": {
      "needs_background": "light"
     },
     "output_type": "display_data"
    }
   ],
   "source": [
    "# Decision Trees with max depths 1-10 at 5-folds\n",
    "result, xAxis = runTreeDepths(5, 1, 10, wines, targets)\n",
    "\n",
    "# Plot labels\n",
    "xLabel = \"Execution Time\"\n",
    "plotModelPerformance(result, xAxis, xLabel)"
   ]
  },
  {
   "cell_type": "markdown",
   "metadata": {},
   "source": [
    "<h1>Random Forest</h1>\n",
    "\n",
    "Analysis on how the number of trees (`n_estimators`) in a forest effects model accuracy and execution time"
   ]
  },
  {
   "cell_type": "markdown",
   "metadata": {},
   "source": [
    "Function to run a Random Forest over k-folds with n trees"
   ]
  },
  {
   "cell_type": "code",
   "execution_count": 91,
   "metadata": {},
   "outputs": [],
   "source": [
    "def runRandomForest(k, n, data, targets, d):\n",
    "    accuracy = []\n",
    "    squareErrors = []\n",
    "    variances = []\n",
    "    biases= []\n",
    "    trainS, testS, trainT, testT = getSets(k, data, targets)\n",
    "    \n",
    "    for i in range(0, k):\n",
    "        forest = ensemble.RandomForestClassifier(n_estimators = n, max_depth = d)\n",
    "        # Training\n",
    "        forest = forest.fit(trainS[i], trainT[i])\n",
    "        # Testing\n",
    "        test = forest.predict(testS[i])\n",
    "        \n",
    "        # Accuracy\n",
    "        accuracy.append(metrics.accuracy_score(testT[i], test))\n",
    "        # Variances\n",
    "        variances.append(getVariance(test))\n",
    "        # Biases\n",
    "        biases.append(getBias(test, testT[i]))\n",
    "        # Mean Square Error\n",
    "        squareErrors.append(getMSE(test, testT[i]))\n",
    "        \n",
    "    # Mean results\n",
    "    data = {\n",
    "        \"accuracy\": np.mean(accuracy),\n",
    "        \"bias\": np.mean(biases),\n",
    "        \"variance\": np.mean(variances),\n",
    "        \"mse\": np.mean(squareErrors)\n",
    "    }\n",
    "    \n",
    "    # Printing results\n",
    "    return data"
   ]
  },
  {
   "cell_type": "markdown",
   "metadata": {},
   "source": [
    "Function to run Random Forests of range(start, end) trees with max_depth d over k-folds"
   ]
  },
  {
   "cell_type": "code",
   "execution_count": 92,
   "metadata": {},
   "outputs": [],
   "source": [
    "def runForestNums(k, start, end, data, targets, d):\n",
    "    allData = []\n",
    "    allTimes = []\n",
    "    for i in range(start, end):\n",
    "        startTime = time.time()\n",
    "        allData.append(runRandomForest(k, i, data, targets, d))\n",
    "        allTimes.append(time.time() - startTime)\n",
    "        \n",
    "    return pd.DataFrame(allData), allTimes"
   ]
  },
  {
   "cell_type": "markdown",
   "metadata": {},
   "source": [
    "<h3>Iris Flowers</h3>"
   ]
  },
  {
   "cell_type": "code",
   "execution_count": 93,
   "metadata": {},
   "outputs": [
    {
     "name": "stdout",
     "output_type": "stream",
     "text": [
      "\n"
     ]
    },
    {
     "data": {
      "image/png": "[encoded data removed]",
      "text/plain": [
       "<Figure size 864x720 with 4 Axes>"
      ]
     },
     "metadata": {
      "needs_background": "light"
     },
     "output_type": "display_data"
    }
   ],
   "source": [
    "# Random Forest with trees of max depth 5 and 10-20 trees\n",
    "result, xAxis = runForestNums(5, 10, 20, iris.data, iris.target, 5)\n",
    "\n",
    "# Plot labels\n",
    "xLabel = \"Execution Time\"\n",
    "plotModelPerformance(result, xAxis, xLabel)"
   ]
  },
  {
   "cell_type": "markdown",
   "metadata": {},
   "source": [
    "<h3>Wine Quality</h3>"
   ]
  },
  {
   "cell_type": "code",
   "execution_count": 94,
   "metadata": {},
   "outputs": [
    {
     "name": "stdout",
     "output_type": "stream",
     "text": [
      "\n"
     ]
    },
    {
     "data": {
      "image/png": "[encoded data removed]",
      "text/plain": [
       "<Figure size 864x720 with 4 Axes>"
      ]
     },
     "metadata": {
      "needs_background": "light"
     },
     "output_type": "display_data"
    }
   ],
   "source": [
    "# Random Forest with trees of max depth 5 and 10-20 trees\n",
    "result, xAxis = runForestNums(5, 10, 20, wines, targets, 5)\n",
    "\n",
    "# Plot labels\n",
    "xLabel = \"Execution Time\"\n",
    "plotModelPerformance(result, xAxis, xLabel)"
   ]
  },
  {
   "cell_type": "markdown",
   "metadata": {},
   "source": [
    "<h1>K-Fold Cross Validation</h1>\n",
    "\n",
    "Analysis on how number of folds (`k`) affects the validation of a model"
   ]
  },
  {
   "cell_type": "markdown",
   "metadata": {},
   "source": [
    "<h3>Iris Flowers</h3>"
   ]
  },
  {
   "cell_type": "markdown",
   "metadata": {},
   "source": [
    "Decision Trees"
   ]
  },
  {
   "cell_type": "code",
   "execution_count": 95,
   "metadata": {
    "scrolled": true
   },
   "outputs": [
    {
     "data": {
      "text/html": [
       "<div>\n",
       "<style scoped>\n",
       "    .dataframe tbody tr th:only-of-type {\n",
       "        vertical-align: middle;\n",
       "    }\n",
       "\n",
       "    .dataframe tbody tr th {\n",
       "        vertical-align: top;\n",
       "    }\n",
       "\n",
       "    .dataframe thead th {\n",
       "        text-align: right;\n",
       "    }\n",
       "</style>\n",
       "<table border=\"1\" class=\"dataframe\">\n",
       "  <thead>\n",
       "    <tr style=\"text-align: right;\">\n",
       "      <th></th>\n",
       "      <th>accuracy</th>\n",
       "      <th>bias</th>\n",
       "      <th>variance</th>\n",
       "      <th>mse</th>\n",
       "      <th>kFolds</th>\n",
       "    </tr>\n",
       "  </thead>\n",
       "  <tbody>\n",
       "    <tr>\n",
       "      <td>0</td>\n",
       "      <td>0.920000</td>\n",
       "      <td>0.013333</td>\n",
       "      <td>0.664444</td>\n",
       "      <td>0.666222</td>\n",
       "      <td>5</td>\n",
       "    </tr>\n",
       "    <tr>\n",
       "      <td>1</td>\n",
       "      <td>0.940000</td>\n",
       "      <td>-0.006667</td>\n",
       "      <td>0.634667</td>\n",
       "      <td>0.640444</td>\n",
       "      <td>10</td>\n",
       "    </tr>\n",
       "    <tr>\n",
       "      <td>2</td>\n",
       "      <td>0.946667</td>\n",
       "      <td>0.000000</td>\n",
       "      <td>0.000000</td>\n",
       "      <td>0.053333</td>\n",
       "      <td>150</td>\n",
       "    </tr>\n",
       "  </tbody>\n",
       "</table>\n",
       "</div>"
      ],
      "text/plain": [
       "   accuracy      bias  variance       mse  kFolds\n",
       "0  0.920000  0.013333  0.664444  0.666222       5\n",
       "1  0.940000 -0.006667  0.634667  0.640444      10\n",
       "2  0.946667  0.000000  0.000000  0.053333     150"
      ]
     },
     "execution_count": 95,
     "metadata": {},
     "output_type": "execute_result"
    }
   ],
   "source": [
    "treeResults = []\n",
    "\n",
    "# k = 5\n",
    "treeResults.append(runDecisionTree(5, iris.data, iris.target, 5))\n",
    "\n",
    "# k = 10\n",
    "treeResults.append(runDecisionTree(10, iris.data, iris.target, 5))\n",
    "\n",
    "# k = n\n",
    "n = 150\n",
    "treeResults.append(runDecisionTree(n, iris.data, iris.target, 5))\n",
    "\n",
    "treeResults = pd.DataFrame(treeResults)\n",
    "treeResults['kFolds'] = [5, 10, n]\n",
    "treeResults"
   ]
  },
  {
   "cell_type": "markdown",
   "metadata": {},
   "source": [
    "Random Forests"
   ]
  },
  {
   "cell_type": "code",
   "execution_count": 96,
   "metadata": {},
   "outputs": [
    {
     "data": {
      "text/html": [
       "<div>\n",
       "<style scoped>\n",
       "    .dataframe tbody tr th:only-of-type {\n",
       "        vertical-align: middle;\n",
       "    }\n",
       "\n",
       "    .dataframe tbody tr th {\n",
       "        vertical-align: top;\n",
       "    }\n",
       "\n",
       "    .dataframe thead th {\n",
       "        text-align: right;\n",
       "    }\n",
       "</style>\n",
       "<table border=\"1\" class=\"dataframe\">\n",
       "  <thead>\n",
       "    <tr style=\"text-align: right;\">\n",
       "      <th></th>\n",
       "      <th>accuracy</th>\n",
       "      <th>bias</th>\n",
       "      <th>variance</th>\n",
       "      <th>mse</th>\n",
       "      <th>kFolds</th>\n",
       "    </tr>\n",
       "  </thead>\n",
       "  <tbody>\n",
       "    <tr>\n",
       "      <td>0</td>\n",
       "      <td>0.940000</td>\n",
       "      <td>-0.020000</td>\n",
       "      <td>0.629111</td>\n",
       "      <td>0.631556</td>\n",
       "      <td>5</td>\n",
       "    </tr>\n",
       "    <tr>\n",
       "      <td>1</td>\n",
       "      <td>0.946667</td>\n",
       "      <td>-0.013333</td>\n",
       "      <td>0.623111</td>\n",
       "      <td>0.628444</td>\n",
       "      <td>10</td>\n",
       "    </tr>\n",
       "    <tr>\n",
       "      <td>2</td>\n",
       "      <td>0.960000</td>\n",
       "      <td>0.000000</td>\n",
       "      <td>0.000000</td>\n",
       "      <td>0.040000</td>\n",
       "      <td>150</td>\n",
       "    </tr>\n",
       "  </tbody>\n",
       "</table>\n",
       "</div>"
      ],
      "text/plain": [
       "   accuracy      bias  variance       mse  kFolds\n",
       "0  0.940000 -0.020000  0.629111  0.631556       5\n",
       "1  0.946667 -0.013333  0.623111  0.628444      10\n",
       "2  0.960000  0.000000  0.000000  0.040000     150"
      ]
     },
     "execution_count": 96,
     "metadata": {},
     "output_type": "execute_result"
    }
   ],
   "source": [
    "forestResults = []\n",
    "\n",
    "# k = 5\n",
    "forestResults.append(runRandomForest(5, 100, iris.data, iris.target, 5))\n",
    "\n",
    "# k = 10\n",
    "forestResults.append(runRandomForest(10, 100, iris.data, iris.target, 5))\n",
    "\n",
    "# k = n\n",
    "n = 150\n",
    "forestResults.append(runRandomForest(n, 100, iris.data, iris.target, 5))\n",
    "\n",
    "forestResults = pd.DataFrame(forestResults)\n",
    "forestResults['kFolds'] = [5, 10, n]\n",
    "forestResults"
   ]
  },
  {
   "cell_type": "markdown",
   "metadata": {},
   "source": [
    "<h3>Wine Quality</h3>"
   ]
  },
  {
   "cell_type": "code",
   "execution_count": 97,
   "metadata": {},
   "outputs": [
    {
     "data": {
      "text/html": [
       "<div>\n",
       "<style scoped>\n",
       "    .dataframe tbody tr th:only-of-type {\n",
       "        vertical-align: middle;\n",
       "    }\n",
       "\n",
       "    .dataframe tbody tr th {\n",
       "        vertical-align: top;\n",
       "    }\n",
       "\n",
       "    .dataframe thead th {\n",
       "        text-align: right;\n",
       "    }\n",
       "</style>\n",
       "<table border=\"1\" class=\"dataframe\">\n",
       "  <thead>\n",
       "    <tr style=\"text-align: right;\">\n",
       "      <th></th>\n",
       "      <th>accuracy</th>\n",
       "      <th>bias</th>\n",
       "      <th>variance</th>\n",
       "      <th>mse</th>\n",
       "      <th>kFolds</th>\n",
       "    </tr>\n",
       "  </thead>\n",
       "  <tbody>\n",
       "    <tr>\n",
       "      <td>0</td>\n",
       "      <td>0.528991</td>\n",
       "      <td>-0.066574</td>\n",
       "      <td>0.418491</td>\n",
       "      <td>0.424887</td>\n",
       "      <td>5</td>\n",
       "    </tr>\n",
       "    <tr>\n",
       "      <td>1</td>\n",
       "      <td>0.535327</td>\n",
       "      <td>-0.093913</td>\n",
       "      <td>0.423449</td>\n",
       "      <td>0.433128</td>\n",
       "      <td>10</td>\n",
       "    </tr>\n",
       "    <tr>\n",
       "      <td>2</td>\n",
       "      <td>0.539021</td>\n",
       "      <td>-0.079495</td>\n",
       "      <td>0.404383</td>\n",
       "      <td>0.427730</td>\n",
       "      <td>150</td>\n",
       "    </tr>\n",
       "  </tbody>\n",
       "</table>\n",
       "</div>"
      ],
      "text/plain": [
       "   accuracy      bias  variance       mse  kFolds\n",
       "0  0.528991 -0.066574  0.418491  0.424887       5\n",
       "1  0.535327 -0.093913  0.423449  0.433128      10\n",
       "2  0.539021 -0.079495  0.404383  0.427730     150"
      ]
     },
     "execution_count": 97,
     "metadata": {},
     "output_type": "execute_result"
    }
   ],
   "source": [
    "treeResults = []\n",
    "\n",
    "# k = 5\n",
    "treeResults.append(runDecisionTree(5, wines, targets, 5))\n",
    "\n",
    "# k = 10\n",
    "treeResults.append(runDecisionTree(10, wines, targets, 5))\n",
    "\n",
    "# k = n\n",
    "n = 150\n",
    "treeResults.append(runDecisionTree(n, wines, targets, 5))\n",
    "\n",
    "treeResults = pd.DataFrame(treeResults)\n",
    "treeResults['kFolds'] = [5, 10, n]\n",
    "treeResults"
   ]
  },
  {
   "cell_type": "code",
   "execution_count": 98,
   "metadata": {},
   "outputs": [
    {
     "data": {
      "text/html": [
       "<div>\n",
       "<style scoped>\n",
       "    .dataframe tbody tr th:only-of-type {\n",
       "        vertical-align: middle;\n",
       "    }\n",
       "\n",
       "    .dataframe tbody tr th {\n",
       "        vertical-align: top;\n",
       "    }\n",
       "\n",
       "    .dataframe thead th {\n",
       "        text-align: right;\n",
       "    }\n",
       "</style>\n",
       "<table border=\"1\" class=\"dataframe\">\n",
       "  <thead>\n",
       "    <tr style=\"text-align: right;\">\n",
       "      <th></th>\n",
       "      <th>accuracy</th>\n",
       "      <th>bias</th>\n",
       "      <th>variance</th>\n",
       "      <th>mse</th>\n",
       "      <th>kFolds</th>\n",
       "    </tr>\n",
       "  </thead>\n",
       "  <tbody>\n",
       "    <tr>\n",
       "      <td>0</td>\n",
       "      <td>0.554308</td>\n",
       "      <td>-0.088607</td>\n",
       "      <td>0.282354</td>\n",
       "      <td>0.290288</td>\n",
       "      <td>5</td>\n",
       "    </tr>\n",
       "    <tr>\n",
       "      <td>1</td>\n",
       "      <td>0.553698</td>\n",
       "      <td>-0.092482</td>\n",
       "      <td>0.284090</td>\n",
       "      <td>0.293186</td>\n",
       "      <td>10</td>\n",
       "    </tr>\n",
       "    <tr>\n",
       "      <td>2</td>\n",
       "      <td>0.556307</td>\n",
       "      <td>-0.094274</td>\n",
       "      <td>0.275036</td>\n",
       "      <td>0.300479</td>\n",
       "      <td>150</td>\n",
       "    </tr>\n",
       "  </tbody>\n",
       "</table>\n",
       "</div>"
      ],
      "text/plain": [
       "   accuracy      bias  variance       mse  kFolds\n",
       "0  0.554308 -0.088607  0.282354  0.290288       5\n",
       "1  0.553698 -0.092482  0.284090  0.293186      10\n",
       "2  0.556307 -0.094274  0.275036  0.300479     150"
      ]
     },
     "execution_count": 98,
     "metadata": {},
     "output_type": "execute_result"
    }
   ],
   "source": [
    "forestResults = []\n",
    "\n",
    "# k = 5\n",
    "forestResults.append(runRandomForest(5, 100, wines, targets, 5))\n",
    "\n",
    "# k = 10\n",
    "forestResults.append(runRandomForest(10, 100, wines, targets, 5))\n",
    "\n",
    "# k = n\n",
    "n = 150\n",
    "forestResults.append(runRandomForest(n, 100, wines, targets, 5))\n",
    "\n",
    "forestResults = pd.DataFrame(forestResults)\n",
    "forestResults['kFolds'] = [5, 10, n]\n",
    "forestResults"
   ]
  },
  {
   "cell_type": "code",
   "execution_count": null,
   "metadata": {},
   "outputs": [],
   "source": []
  }
 ],
 "metadata": {
  "kernelspec": {
   "display_name": "Python 3",
   "language": "python",
   "name": "python3"
  },
  "language_info": {
   "codemirror_mode": {
    "name": "ipython",
    "version": 3
   },
   "file_extension": ".py",
   "mimetype": "text/x-python",
   "name": "python",
   "nbconvert_exporter": "python",
   "pygments_lexer": "ipython3",
   "version": "3.7.4"
  }
 },
 "nbformat": 4,
 "nbformat_minor": 2
}
