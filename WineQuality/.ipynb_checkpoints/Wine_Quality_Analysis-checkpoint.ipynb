{
 "cells": [
  {
   "cell_type": "markdown",
   "metadata": {},
   "source": [
    "**ML Exercises on Wine Quality dataset**"
   ]
  },
  {
   "cell_type": "code",
   "execution_count": 81,
   "metadata": {},
   "outputs": [],
   "source": [
    "from sklearn.datasets import load_iris # Iris dataset\n",
    "from sklearn.model_selection import KFold # K-fold Cross Validation\n",
    "from sklearn import tree # Decision Tree\n",
    "from sklearn import ensemble # Random forest\n",
    "from sklearn import metrics # Accuracy scores"
   ]
  },
  {
   "cell_type": "markdown",
   "metadata": {},
   "source": [
    "**Splitting data in training/test and targets**"
   ]
  },
  {
   "cell_type": "code",
   "execution_count": 82,
   "metadata": {},
   "outputs": [],
   "source": [
    "# Loading datsaet\n",
    "import pandas as pd\n",
    "df = pd.read_csv('winequality-white.csv', delimiter=';')\n",
    "\n",
    "wines = df.drop(columns='quality')\n",
    "wines = wines.to_numpy()\n",
    "targets = df['quality']\n",
    "targets = targets.to_numpy()"
   ]
  },
  {
   "cell_type": "markdown",
   "metadata": {},
   "source": [
    "<h3>Data sets for 5-fold Cross Validation</h3>"
   ]
  },
  {
   "cell_type": "code",
   "execution_count": 89,
   "metadata": {},
   "outputs": [],
   "source": [
    "# K-fold parameters\n",
    "k = 5\n",
    "kFold = KFold(k, True, 1)\n",
    "\n",
    "# Data sets\n",
    "trainSets = []\n",
    "testSets = []\n",
    "# Target sets\n",
    "trainTargets = []\n",
    "testTargets = []\n",
    "\n",
    "for train, test in kFold.split(wines):\n",
    "    # Training values\n",
    "    trainingSet = [wines[i] for i in train] \n",
    "    trainSets.append(trainingSet)\n",
    "    trainingTargs = [targets[i] for i in train] \n",
    "    trainTargets.append(trainingTargs)\n",
    "    \n",
    "    # Testing values\n",
    "    testingSet = [wines[i] for i in test] \n",
    "    testSets.append(testingSet)\n",
    "    testingTargs = [targets[i] for i in test] \n",
    "    testTargets.append(testingTargs)"
   ]
  },
  {
   "cell_type": "markdown",
   "metadata": {},
   "source": [
    "<h1>Decision Tree Model with 5-fold Cross Validation</h1>\n",
    "\n",
    "Decision trees with 5-fold cross validation"
   ]
  },
  {
   "cell_type": "code",
   "execution_count": 84,
   "metadata": {},
   "outputs": [],
   "source": [
    "treeScores = []\n",
    "\n",
    "# Training and Testing for each validation fold\n",
    "for i in range(0, k):\n",
    "    # Tree init\n",
    "    wineTree = tree.DecisionTreeClassifier()\n",
    "    \n",
    "    # Tree training\n",
    "    wineTree = wineTree.fit(trainSets[i], trainTargets[i])\n",
    "    \n",
    "    # Tree testing\n",
    "    testPredict = wineTree.predict(testSets[i])\n",
    "    \n",
    "    # Tree accuracy\n",
    "    accuracy = metrics.accuracy_score(testTargets[i], testPredict)\n",
    "    \n",
    "    # Recording accuracy score\n",
    "    treeScores.append(accuracy)"
   ]
  },
  {
   "cell_type": "code",
   "execution_count": 85,
   "metadata": {},
   "outputs": [
    {
     "name": "stdout",
     "output_type": "stream",
     "text": [
      "Accuracy: 0.6000\n",
      "Accuracy: 0.6327\n",
      "Accuracy: 0.6143\n",
      "Accuracy: 0.5751\n",
      "Accuracy: 0.6078\n",
      "\n",
      "Mean Accuracy: 0.6060\n"
     ]
    }
   ],
   "source": [
    "# Results\n",
    "for score in treeScores:\n",
    "    print(\"Accuracy: {0:0.4f}\".format(score))\n",
    "# Summary of scores\n",
    "final = np.mean(treeScores)\n",
    "print(\"\\nMean Accuracy: {0:0.4f}\".format(final))"
   ]
  },
  {
   "cell_type": "markdown",
   "metadata": {},
   "source": [
    "<h1>Random Forest Model with 5-fold Cross Validation</h1>\n",
    "\n",
    "Random forest with 5-fold cross validation"
   ]
  },
  {
   "cell_type": "code",
   "execution_count": 86,
   "metadata": {},
   "outputs": [
    {
     "name": "stderr",
     "output_type": "stream",
     "text": [
      "C:\\Users\\lykas\\Anaconda3\\lib\\site-packages\\sklearn\\ensemble\\forest.py:245: FutureWarning: The default value of n_estimators will change from 10 in version 0.20 to 100 in 0.22.\n",
      "  \"10 in version 0.20 to 100 in 0.22.\", FutureWarning)\n",
      "C:\\Users\\lykas\\Anaconda3\\lib\\site-packages\\sklearn\\ensemble\\forest.py:245: FutureWarning: The default value of n_estimators will change from 10 in version 0.20 to 100 in 0.22.\n",
      "  \"10 in version 0.20 to 100 in 0.22.\", FutureWarning)\n",
      "C:\\Users\\lykas\\Anaconda3\\lib\\site-packages\\sklearn\\ensemble\\forest.py:245: FutureWarning: The default value of n_estimators will change from 10 in version 0.20 to 100 in 0.22.\n",
      "  \"10 in version 0.20 to 100 in 0.22.\", FutureWarning)\n",
      "C:\\Users\\lykas\\Anaconda3\\lib\\site-packages\\sklearn\\ensemble\\forest.py:245: FutureWarning: The default value of n_estimators will change from 10 in version 0.20 to 100 in 0.22.\n",
      "  \"10 in version 0.20 to 100 in 0.22.\", FutureWarning)\n",
      "C:\\Users\\lykas\\Anaconda3\\lib\\site-packages\\sklearn\\ensemble\\forest.py:245: FutureWarning: The default value of n_estimators will change from 10 in version 0.20 to 100 in 0.22.\n",
      "  \"10 in version 0.20 to 100 in 0.22.\", FutureWarning)\n"
     ]
    }
   ],
   "source": [
    "forestScores = []\n",
    "\n",
    "# Training and Testing for each validation fold\n",
    "for i in range(0, k):\n",
    "    # Forest init\n",
    "    wineForest = ensemble.RandomForestClassifier()\n",
    "    \n",
    "    # Forest training\n",
    "    wineForest = wineForest.fit(trainSets[i], trainTargets[i])\n",
    "    \n",
    "    # Forest testing\n",
    "    testPredict = wineForest.predict(testSets[i])\n",
    "#     print(testPredict)\n",
    "    \n",
    "    # Forest accuracy\n",
    "    accuracy = metrics.accuracy_score(testTargets[i], testPredict)\n",
    "    \n",
    "    # Recording accuracy score\n",
    "    forestScores.append(accuracy)"
   ]
  },
  {
   "cell_type": "code",
   "execution_count": 87,
   "metadata": {},
   "outputs": [
    {
     "name": "stdout",
     "output_type": "stream",
     "text": [
      "Accuracy: 0.6561\n",
      "Accuracy: 0.6786\n",
      "Accuracy: 0.6694\n",
      "Accuracy: 0.6456\n",
      "Accuracy: 0.6588\n",
      "\n",
      "Mean Accuracy: 0.6617\n"
     ]
    }
   ],
   "source": [
    "# Results\n",
    "for score in forestScores:\n",
    "    print(\"Accuracy: {0:0.4f}\".format(score))\n",
    "# Summary of scores\n",
    "final = np.mean(forestScores)\n",
    "print(\"\\nMean Accuracy: {0:0.4f}\".format(final))"
   ]
  },
  {
   "cell_type": "code",
   "execution_count": null,
   "metadata": {},
   "outputs": [],
   "source": []
  }
 ],
 "metadata": {
  "kernelspec": {
   "display_name": "Python 3",
   "language": "python",
   "name": "python3"
  },
  "language_info": {
   "codemirror_mode": {
    "name": "ipython",
    "version": 3
   },
   "file_extension": ".py",
   "mimetype": "text/x-python",
   "name": "python",
   "nbconvert_exporter": "python",
   "pygments_lexer": "ipython3",
   "version": "3.7.4"
  }
 },
 "nbformat": 4,
 "nbformat_minor": 2
}
