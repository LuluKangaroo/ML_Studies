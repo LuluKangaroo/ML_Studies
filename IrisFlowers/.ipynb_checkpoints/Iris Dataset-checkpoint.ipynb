{
 "cells": [
  {
   "cell_type": "markdown",
   "metadata": {},
   "source": [
    "**Iris Dataset ML Exercises**"
   ]
  },
  {
   "cell_type": "code",
   "execution_count": 34,
   "metadata": {},
   "outputs": [],
   "source": [
    "from sklearn.datasets import load_iris\n",
    "from sklearn import tree\n",
    "import graphviz\n",
    "import numpy as np\n",
    "from numpy import array\n",
    "from sklearn.model_selection import KFold\n",
    "\n",
    "# Load in our dataset\n",
    "irisData = load_iris()"
   ]
  },
  {
   "cell_type": "markdown",
   "metadata": {},
   "source": [
    "Decision Tree Model"
   ]
  },
  {
   "cell_type": "code",
   "execution_count": 35,
   "metadata": {},
   "outputs": [
    {
     "data": {
      "text/plain": [
       "'Iris.pdf'"
      ]
     },
     "execution_count": 35,
     "metadata": {},
     "output_type": "execute_result"
    }
   ],
   "source": [
    "# Decision tree initialization\n",
    "classTree = tree.DecisionTreeClassifier()\n",
    "\n",
    "# Decision tree training (induction + pruning)\n",
    "classTree = classTree.fit(irisData.data, irisData.target)\n",
    "\n",
    "# Decision tree visualization\n",
    "dotData = tree.export_graphviz(classTree, out_file = None, \n",
    "                     feature_names = irisData.feature_names,  \n",
    "                     class_names = irisData.target_names,  \n",
    "                     filled = True, rounded = True,  \n",
    "                     special_characters = True)  \n",
    "graph = graphviz.Source(dotData)  \n",
    "graph.render(\"Iris\") \n",
    "\n",
    "# Decision tree testing"
   ]
  },
  {
   "cell_type": "markdown",
   "metadata": {},
   "source": [
    "Decision Tree Model with 5-fold Cross Validation"
   ]
  },
  {
   "cell_type": "code",
   "execution_count": 36,
   "metadata": {},
   "outputs": [
    {
     "data": {
      "text/plain": [
       "1.0"
      ]
     },
     "execution_count": 36,
     "metadata": {},
     "output_type": "execute_result"
    }
   ],
   "source": [
    "# Cross validation parameters\n",
    "k = 5\n",
    "kFold = KFold(k, True, 1)\n",
    "\n",
    "# Collected scores\n",
    "allScores = []\n",
    "\n",
    "# Splits\n",
    "for train, test in kFold.split(irisData):\n",
    "#     print()\n",
    "    \n",
    "    # Tree init\n",
    "    irisTree = tree.DecisionTreeClassifier()\n",
    "    \n",
    "    # Tree training\n",
    "#     irisTree = irisTree.fit()\n",
    "    \n",
    "    # Tree testing\n",
    "    score = 1\n",
    "    \n",
    "    # Saving score\n",
    "    allScores.append(score)\n",
    "    \n",
    "# Summary of scores\n",
    "final = np.mean(allScores)\n",
    "final"
   ]
  },
  {
   "cell_type": "code",
   "execution_count": null,
   "metadata": {},
   "outputs": [],
   "source": []
  }
 ],
 "metadata": {
  "kernelspec": {
   "display_name": "Python 3",
   "language": "python",
   "name": "python3"
  },
  "language_info": {
   "codemirror_mode": {
    "name": "ipython",
    "version": 3
   },
   "file_extension": ".py",
   "mimetype": "text/x-python",
   "name": "python",
   "nbconvert_exporter": "python",
   "pygments_lexer": "ipython3",
   "version": "3.7.4"
  }
 },
 "nbformat": 4,
 "nbformat_minor": 2
}
